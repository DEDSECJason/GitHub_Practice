{
 "cells": [
  {
   "cell_type": "markdown",
   "metadata": {},
   "source": [
    "### Save Data to Local Storage\n",
    "\n",
    "지난번에 FinanaceDataReadre 를 통해 주가데이터를 수집했었는데\n",
    "\n",
    "이는 매 실행시마다 KRX, Naver 등 웹페이지로부터 데이터를 요청해 받아오는것이다.\n",
    "\n",
    "따라서 오프라인 상태에서는 사용 할 수가 없고\n",
    "\n",
    "지나치게 많은 요청을 할 경우 서버로부터 일시적으로 IP차단을 당하기도 한다\n",
    "\n",
    "이를 방지하기 위해 데이터를 내 컴퓨터에 저장하는 법을 알아보자\n"
   ]
  },
  {
   "cell_type": "markdown",
   "metadata": {},
   "source": [
    "### Directory 생성 및 확인"
   ]
  },
  {
   "cell_type": "code",
   "execution_count": 4,
   "metadata": {},
   "outputs": [
    {
     "data": {
      "text/plain": [
       "['.git', '.idea', '.ipynb_checkpoints', 'README.md', 'Untitled.ipynb']"
      ]
     },
     "execution_count": 4,
     "metadata": {},
     "output_type": "execute_result"
    }
   ],
   "source": [
    "import os\n",
    "os.listdir() # 현재 디렉토리의 파일들 출력"
   ]
  },
  {
   "cell_type": "code",
   "execution_count": 7,
   "metadata": {},
   "outputs": [],
   "source": [
    "dirname = \"findata\"\n",
    "if dirname not in os.listdir(): # 해당 이름의 디렉토리가 없을 경우\n",
    "    os.mkdir(dirname) # 디렉토리 생성"
   ]
  },
  {
   "cell_type": "code",
   "execution_count": 9,
   "metadata": {},
   "outputs": [
    {
     "data": {
      "text/plain": [
       "['.git',\n",
       " '.idea',\n",
       " '.ipynb_checkpoints',\n",
       " 'findata',\n",
       " 'README.md',\n",
       " 'Untitled.ipynb']"
      ]
     },
     "execution_count": 9,
     "metadata": {},
     "output_type": "execute_result"
    }
   ],
   "source": [
    "os.listdir() # 새로운 디렉토리가 생성된것을 확인 할 수 있다"
   ]
  },
  {
   "cell_type": "code",
   "execution_count": 12,
   "metadata": {},
   "outputs": [
    {
     "data": {
      "text/plain": [
       "[]"
      ]
     },
     "execution_count": 12,
     "metadata": {},
     "output_type": "execute_result"
    }
   ],
   "source": [
    "os.listdir(\"findata/\") # 현재폴더 기준으로 findata디렉토리 안의 파일도 확인가능"
   ]
  },
  {
   "cell_type": "markdown",
   "metadata": {},
   "source": [
    "### Python 객체의 저장\n",
    "\n",
    "점프 투 파이썬에서 파일 입출력을 통해 간단한 메모장을 만드는것을 해보았을 것이다.\n",
    "\n",
    "하지만 그것만으로는 부족하다.\n",
    "\n",
    "pickle 을 사용하면 단순 문자열이 아닌 파이썬의 객체 자체를 저장할 수 있다."
   ]
  },
  {
   "cell_type": "code",
   "execution_count": 13,
   "metadata": {},
   "outputs": [],
   "source": [
    "sample_list = [1,2,3,4,5,6]\n",
    "\n",
    "def sample_func():\n",
    "    print(\"Sample Function\")"
   ]
  },
  {
   "cell_type": "markdown",
   "metadata": {},
   "source": [
    "#### 저장시에는 mode=wb, 로드시에는 mode=rb 를 사용\n",
    "(wb 사용시 동일 이름이 존재하는 경우 덮어씌어지는것에 주의한다)"
   ]
  },
  {
   "cell_type": "code",
   "execution_count": 16,
   "metadata": {},
   "outputs": [],
   "source": [
    "import pickle\n",
    "# Save\n",
    "with open(\"findata/sample_list.pickle\", mode=\"wb\") as f:\n",
    "    pickle.dump(sample_list, f)\n",
    "    \n",
    "with open(\"findata/sample_func.pickle\", mode=\"wb\") as f:\n",
    "    pickle.dump(sample_func, f)"
   ]
  },
  {
   "cell_type": "code",
   "execution_count": 17,
   "metadata": {},
   "outputs": [
    {
     "data": {
      "text/plain": [
       "['sample_func.pickle', 'sample_list.pickle']"
      ]
     },
     "execution_count": 17,
     "metadata": {},
     "output_type": "execute_result"
    }
   ],
   "source": [
    "os.listdir(\"findata/\")"
   ]
  },
  {
   "cell_type": "code",
   "execution_count": 18,
   "metadata": {},
   "outputs": [],
   "source": [
    "# Load\n",
    "with open('findata/sample_list.pickle', mode='rb') as f:\n",
    "    loaded_list = pickle.load(f)\n",
    "    \n",
    "with open('findata/sample_func.pickle', mode='rb') as f:\n",
    "    loaded_func = pickle.load(f)"
   ]
  },
  {
   "cell_type": "code",
   "execution_count": 20,
   "metadata": {},
   "outputs": [
    {
     "data": {
      "text/plain": [
       "[1, 2, 3, 4, 5, 6]"
      ]
     },
     "execution_count": 20,
     "metadata": {},
     "output_type": "execute_result"
    }
   ],
   "source": [
    "loaded_list"
   ]
  },
  {
   "cell_type": "code",
   "execution_count": 22,
   "metadata": {},
   "outputs": [
    {
     "name": "stdout",
     "output_type": "stream",
     "text": [
      "Sample Function\n"
     ]
    }
   ],
   "source": [
    "loaded_func()"
   ]
  },
  {
   "cell_type": "markdown",
   "metadata": {},
   "source": [
    "### 데이터를 읽고 직접 저장해보자!"
   ]
  },
  {
   "cell_type": "code",
   "execution_count": 1,
   "metadata": {},
   "outputs": [],
   "source": [
    "import FinanceDataReader as fdr"
   ]
  },
  {
   "cell_type": "code",
   "execution_count": 78,
   "metadata": {},
   "outputs": [],
   "source": [
    "samsung = fdr.DataReader(\"005930\", \"2000\")"
   ]
  },
  {
   "cell_type": "code",
   "execution_count": 79,
   "metadata": {},
   "outputs": [
    {
     "data": {
      "text/html": [
       "<div>\n",
       "<style scoped>\n",
       "    .dataframe tbody tr th:only-of-type {\n",
       "        vertical-align: middle;\n",
       "    }\n",
       "\n",
       "    .dataframe tbody tr th {\n",
       "        vertical-align: top;\n",
       "    }\n",
       "\n",
       "    .dataframe thead th {\n",
       "        text-align: right;\n",
       "    }\n",
       "</style>\n",
       "<table border=\"1\" class=\"dataframe\">\n",
       "  <thead>\n",
       "    <tr style=\"text-align: right;\">\n",
       "      <th></th>\n",
       "      <th>Open</th>\n",
       "      <th>High</th>\n",
       "      <th>Low</th>\n",
       "      <th>Close</th>\n",
       "      <th>Volume</th>\n",
       "      <th>Change</th>\n",
       "    </tr>\n",
       "    <tr>\n",
       "      <th>Date</th>\n",
       "      <th></th>\n",
       "      <th></th>\n",
       "      <th></th>\n",
       "      <th></th>\n",
       "      <th></th>\n",
       "      <th></th>\n",
       "    </tr>\n",
       "  </thead>\n",
       "  <tbody>\n",
       "    <tr>\n",
       "      <th>2000-01-04</th>\n",
       "      <td>6000</td>\n",
       "      <td>6110</td>\n",
       "      <td>5660</td>\n",
       "      <td>6110</td>\n",
       "      <td>1483967</td>\n",
       "      <td>0.148496</td>\n",
       "    </tr>\n",
       "    <tr>\n",
       "      <th>2000-01-05</th>\n",
       "      <td>5800</td>\n",
       "      <td>6060</td>\n",
       "      <td>5520</td>\n",
       "      <td>5580</td>\n",
       "      <td>1493604</td>\n",
       "      <td>-0.086743</td>\n",
       "    </tr>\n",
       "    <tr>\n",
       "      <th>2000-01-06</th>\n",
       "      <td>5750</td>\n",
       "      <td>5780</td>\n",
       "      <td>5580</td>\n",
       "      <td>5620</td>\n",
       "      <td>1087810</td>\n",
       "      <td>0.007168</td>\n",
       "    </tr>\n",
       "    <tr>\n",
       "      <th>2000-01-07</th>\n",
       "      <td>5560</td>\n",
       "      <td>5670</td>\n",
       "      <td>5360</td>\n",
       "      <td>5540</td>\n",
       "      <td>806195</td>\n",
       "      <td>-0.014235</td>\n",
       "    </tr>\n",
       "    <tr>\n",
       "      <th>2000-01-10</th>\n",
       "      <td>5600</td>\n",
       "      <td>5770</td>\n",
       "      <td>5580</td>\n",
       "      <td>5770</td>\n",
       "      <td>937615</td>\n",
       "      <td>0.041516</td>\n",
       "    </tr>\n",
       "  </tbody>\n",
       "</table>\n",
       "</div>"
      ],
      "text/plain": [
       "            Open  High   Low  Close   Volume    Change\n",
       "Date                                                  \n",
       "2000-01-04  6000  6110  5660   6110  1483967  0.148496\n",
       "2000-01-05  5800  6060  5520   5580  1493604 -0.086743\n",
       "2000-01-06  5750  5780  5580   5620  1087810  0.007168\n",
       "2000-01-07  5560  5670  5360   5540   806195 -0.014235\n",
       "2000-01-10  5600  5770  5580   5770   937615  0.041516"
      ]
     },
     "execution_count": 79,
     "metadata": {},
     "output_type": "execute_result"
    }
   ],
   "source": [
    "samsung.head() # 2000년 부터 현재까지의 데이터"
   ]
  },
  {
   "cell_type": "code",
   "execution_count": 36,
   "metadata": {},
   "outputs": [],
   "source": [
    "# 저장!\n",
    "with open(\"findata/samsung.pickle\", mode=\"wb\") as f:\n",
    "    pickle.dump(samsung, f)"
   ]
  },
  {
   "cell_type": "code",
   "execution_count": 37,
   "metadata": {},
   "outputs": [],
   "source": [
    "with open(\"findata/samsung.pickle\", mode=\"rb\") as f:\n",
    "    loaded_samsung = pickle.load(f)"
   ]
  },
  {
   "cell_type": "code",
   "execution_count": 80,
   "metadata": {},
   "outputs": [
    {
     "data": {
      "text/html": [
       "<div>\n",
       "<style scoped>\n",
       "    .dataframe tbody tr th:only-of-type {\n",
       "        vertical-align: middle;\n",
       "    }\n",
       "\n",
       "    .dataframe tbody tr th {\n",
       "        vertical-align: top;\n",
       "    }\n",
       "\n",
       "    .dataframe thead th {\n",
       "        text-align: right;\n",
       "    }\n",
       "</style>\n",
       "<table border=\"1\" class=\"dataframe\">\n",
       "  <thead>\n",
       "    <tr style=\"text-align: right;\">\n",
       "      <th></th>\n",
       "      <th>Open</th>\n",
       "      <th>High</th>\n",
       "      <th>Low</th>\n",
       "      <th>Close</th>\n",
       "      <th>Volume</th>\n",
       "      <th>Change</th>\n",
       "    </tr>\n",
       "    <tr>\n",
       "      <th>Date</th>\n",
       "      <th></th>\n",
       "      <th></th>\n",
       "      <th></th>\n",
       "      <th></th>\n",
       "      <th></th>\n",
       "      <th></th>\n",
       "    </tr>\n",
       "  </thead>\n",
       "  <tbody>\n",
       "    <tr>\n",
       "      <th>2000-01-04</th>\n",
       "      <td>6000</td>\n",
       "      <td>6110</td>\n",
       "      <td>5660</td>\n",
       "      <td>6110</td>\n",
       "      <td>1483967</td>\n",
       "      <td>0.148496</td>\n",
       "    </tr>\n",
       "    <tr>\n",
       "      <th>2000-01-05</th>\n",
       "      <td>5800</td>\n",
       "      <td>6060</td>\n",
       "      <td>5520</td>\n",
       "      <td>5580</td>\n",
       "      <td>1493604</td>\n",
       "      <td>-0.086743</td>\n",
       "    </tr>\n",
       "    <tr>\n",
       "      <th>2000-01-06</th>\n",
       "      <td>5750</td>\n",
       "      <td>5780</td>\n",
       "      <td>5580</td>\n",
       "      <td>5620</td>\n",
       "      <td>1087810</td>\n",
       "      <td>0.007168</td>\n",
       "    </tr>\n",
       "    <tr>\n",
       "      <th>2000-01-07</th>\n",
       "      <td>5560</td>\n",
       "      <td>5670</td>\n",
       "      <td>5360</td>\n",
       "      <td>5540</td>\n",
       "      <td>806195</td>\n",
       "      <td>-0.014235</td>\n",
       "    </tr>\n",
       "    <tr>\n",
       "      <th>2000-01-10</th>\n",
       "      <td>5600</td>\n",
       "      <td>5770</td>\n",
       "      <td>5580</td>\n",
       "      <td>5770</td>\n",
       "      <td>937615</td>\n",
       "      <td>0.041516</td>\n",
       "    </tr>\n",
       "  </tbody>\n",
       "</table>\n",
       "</div>"
      ],
      "text/plain": [
       "            Open  High   Low  Close   Volume    Change\n",
       "Date                                                  \n",
       "2000-01-04  6000  6110  5660   6110  1483967  0.148496\n",
       "2000-01-05  5800  6060  5520   5580  1493604 -0.086743\n",
       "2000-01-06  5750  5780  5580   5620  1087810  0.007168\n",
       "2000-01-07  5560  5670  5360   5540   806195 -0.014235\n",
       "2000-01-10  5600  5770  5580   5770   937615  0.041516"
      ]
     },
     "execution_count": 80,
     "metadata": {},
     "output_type": "execute_result"
    }
   ],
   "source": [
    "loaded_samsung.head()"
   ]
  },
  {
   "cell_type": "markdown",
   "metadata": {},
   "source": [
    "### Csv 파일로 저장\n",
    "\n",
    "대용량의 파일 저장시에는 pickle 모듈을 사용하는 것이 좋으나 \n",
    "\n",
    "간단한 데이터는 csv파일로 저장 할 수있다\n",
    "\n",
    "csv 파일의 장점은 사용법이 쉽고 엑셀로도 그 파일을 열람 할 수 있다"
   ]
  },
  {
   "cell_type": "code",
   "execution_count": 44,
   "metadata": {},
   "outputs": [],
   "source": [
    "loaded_samsung.to_csv(\"findata/samsung.csv\")  # Save"
   ]
  },
  {
   "cell_type": "code",
   "execution_count": 50,
   "metadata": {},
   "outputs": [],
   "source": [
    "import pandas as pd\n",
    "loaded_csv = pd.read_csv(\"findata/samsung.csv\")"
   ]
  },
  {
   "cell_type": "code",
   "execution_count": 81,
   "metadata": {},
   "outputs": [
    {
     "data": {
      "text/html": [
       "<div>\n",
       "<style scoped>\n",
       "    .dataframe tbody tr th:only-of-type {\n",
       "        vertical-align: middle;\n",
       "    }\n",
       "\n",
       "    .dataframe tbody tr th {\n",
       "        vertical-align: top;\n",
       "    }\n",
       "\n",
       "    .dataframe thead th {\n",
       "        text-align: right;\n",
       "    }\n",
       "</style>\n",
       "<table border=\"1\" class=\"dataframe\">\n",
       "  <thead>\n",
       "    <tr style=\"text-align: right;\">\n",
       "      <th></th>\n",
       "      <th>Date</th>\n",
       "      <th>Open</th>\n",
       "      <th>High</th>\n",
       "      <th>Low</th>\n",
       "      <th>Close</th>\n",
       "      <th>Volume</th>\n",
       "      <th>Change</th>\n",
       "    </tr>\n",
       "  </thead>\n",
       "  <tbody>\n",
       "    <tr>\n",
       "      <th>0</th>\n",
       "      <td>2000-01-04</td>\n",
       "      <td>6000</td>\n",
       "      <td>6110</td>\n",
       "      <td>5660</td>\n",
       "      <td>6110</td>\n",
       "      <td>1483967</td>\n",
       "      <td>0.148496</td>\n",
       "    </tr>\n",
       "    <tr>\n",
       "      <th>1</th>\n",
       "      <td>2000-01-05</td>\n",
       "      <td>5800</td>\n",
       "      <td>6060</td>\n",
       "      <td>5520</td>\n",
       "      <td>5580</td>\n",
       "      <td>1493604</td>\n",
       "      <td>-0.086743</td>\n",
       "    </tr>\n",
       "    <tr>\n",
       "      <th>2</th>\n",
       "      <td>2000-01-06</td>\n",
       "      <td>5750</td>\n",
       "      <td>5780</td>\n",
       "      <td>5580</td>\n",
       "      <td>5620</td>\n",
       "      <td>1087810</td>\n",
       "      <td>0.007168</td>\n",
       "    </tr>\n",
       "    <tr>\n",
       "      <th>3</th>\n",
       "      <td>2000-01-07</td>\n",
       "      <td>5560</td>\n",
       "      <td>5670</td>\n",
       "      <td>5360</td>\n",
       "      <td>5540</td>\n",
       "      <td>806195</td>\n",
       "      <td>-0.014235</td>\n",
       "    </tr>\n",
       "    <tr>\n",
       "      <th>4</th>\n",
       "      <td>2000-01-10</td>\n",
       "      <td>5600</td>\n",
       "      <td>5770</td>\n",
       "      <td>5580</td>\n",
       "      <td>5770</td>\n",
       "      <td>937615</td>\n",
       "      <td>0.041516</td>\n",
       "    </tr>\n",
       "  </tbody>\n",
       "</table>\n",
       "</div>"
      ],
      "text/plain": [
       "         Date  Open  High   Low  Close   Volume    Change\n",
       "0  2000-01-04  6000  6110  5660   6110  1483967  0.148496\n",
       "1  2000-01-05  5800  6060  5520   5580  1493604 -0.086743\n",
       "2  2000-01-06  5750  5780  5580   5620  1087810  0.007168\n",
       "3  2000-01-07  5560  5670  5360   5540   806195 -0.014235\n",
       "4  2000-01-10  5600  5770  5580   5770   937615  0.041516"
      ]
     },
     "execution_count": 81,
     "metadata": {},
     "output_type": "execute_result"
    }
   ],
   "source": [
    "loaded_csv.head()"
   ]
  },
  {
   "cell_type": "markdown",
   "metadata": {},
   "source": [
    "## 하지만 단점은 pickle 에 비해 느리고 용량을 많이 차지한다"
   ]
  },
  {
   "cell_type": "markdown",
   "metadata": {},
   "source": [
    "**저장시 속도, 용량비교**"
   ]
  },
  {
   "cell_type": "code",
   "execution_count": 57,
   "metadata": {},
   "outputs": [
    {
     "name": "stdout",
     "output_type": "stream",
     "text": [
      "Wall time: 1.99 ms\n"
     ]
    }
   ],
   "source": [
    "def fun1():\n",
    "    with open(\"findata/samsung.pickle\", mode=\"wb\") as f:\n",
    "        pickle.dump(samsung, f)\n",
    "%time fun1() # pickle"
   ]
  },
  {
   "cell_type": "code",
   "execution_count": 61,
   "metadata": {},
   "outputs": [
    {
     "name": "stdout",
     "output_type": "stream",
     "text": [
      "278.3837890625 kb\n"
     ]
    }
   ],
   "source": [
    "print(os.path.getsize(\"findata/samsung.pickle\") / 1024 , \"kb\")"
   ]
  },
  {
   "cell_type": "code",
   "execution_count": 55,
   "metadata": {},
   "outputs": [
    {
     "name": "stdout",
     "output_type": "stream",
     "text": [
      "Wall time: 56.8 ms\n"
     ]
    }
   ],
   "source": [
    "%time loaded_samsung.to_csv(\"findata/samsung.csv\") # csv"
   ]
  },
  {
   "cell_type": "code",
   "execution_count": 62,
   "metadata": {},
   "outputs": [
    {
     "name": "stdout",
     "output_type": "stream",
     "text": [
      "311.3916015625 kb\n"
     ]
    }
   ],
   "source": [
    "print(os.path.getsize(\"findata/samsung.csv\") / 1024 , \"kb\")"
   ]
  },
  {
   "cell_type": "markdown",
   "metadata": {},
   "source": [
    "**로드시 속도비교**"
   ]
  },
  {
   "cell_type": "code",
   "execution_count": 63,
   "metadata": {},
   "outputs": [
    {
     "name": "stdout",
     "output_type": "stream",
     "text": [
      "Wall time: 12 ms\n"
     ]
    }
   ],
   "source": [
    "def fun2():\n",
    "    with open(\"findata/samsung.pickle\", mode=\"rb\") as f:\n",
    "        loaded_samsung = pickle.load(f)\n",
    "%time fun2() # pickle"
   ]
  },
  {
   "cell_type": "code",
   "execution_count": 64,
   "metadata": {},
   "outputs": [
    {
     "name": "stdout",
     "output_type": "stream",
     "text": [
      "Wall time: 24.9 ms\n"
     ]
    }
   ],
   "source": [
    "%time loaded_csv = pd.read_csv(\"findata/samsung.csv\")"
   ]
  },
  {
   "cell_type": "markdown",
   "metadata": {},
   "source": [
    "## 메모리 최적화!\n",
    "\n",
    "데이터를 저장시에는 속도, 메모리, 스토리지 용량 등 많은 것을 고려하여 한다\n",
    "\n",
    "특히 대용량의 데이터를 다룰때에는 메모리에 더욱 많은 주의가 필요하다"
   ]
  },
  {
   "cell_type": "code",
   "execution_count": 66,
   "metadata": {},
   "outputs": [
    {
     "data": {
      "text/plain": [
       "1"
      ]
     },
     "execution_count": 66,
     "metadata": {},
     "output_type": "execute_result"
    }
   ],
   "source": [
    "a = 1\n",
    "a"
   ]
  },
  {
   "cell_type": "markdown",
   "metadata": {},
   "source": [
    "위처럼 a 에 1을 대입하면 그 1은 어디에 저장되는 것인가? 바로 RAM 에 저장된다\n",
    "\n",
    "램의 크기는 유한하므로 우리가 이렇게 데이터를 생성 또는 불러올때마다 RAM의 자원을 사용하게된다\n",
    "\n",
    "따라서 메모리를 효율적으로 관리하지 않을경우 데이터를 불러오지 못하는 일이 생길 수 있다"
   ]
  },
  {
   "cell_type": "code",
   "execution_count": 68,
   "metadata": {},
   "outputs": [
    {
     "name": "stdout",
     "output_type": "stream",
     "text": [
      "28 bytes\n"
     ]
    }
   ],
   "source": [
    "import sys\n",
    "print(sys.getsizeof(a) , \"bytes\") # 현재 어느정도의 메모리를 사용하는지 알려줌"
   ]
  },
  {
   "cell_type": "code",
   "execution_count": 69,
   "metadata": {},
   "outputs": [
    {
     "name": "stdout",
     "output_type": "stream",
     "text": [
      "<class 'pandas.core.frame.DataFrame'>\n",
      "DatetimeIndex: 5071 entries, 2000-01-04 to 2020-07-16\n",
      "Data columns (total 6 columns):\n",
      " #   Column  Non-Null Count  Dtype  \n",
      "---  ------  --------------  -----  \n",
      " 0   Open    5071 non-null   int64  \n",
      " 1   High    5071 non-null   int64  \n",
      " 2   Low     5071 non-null   int64  \n",
      " 3   Close   5071 non-null   int64  \n",
      " 4   Volume  5071 non-null   int64  \n",
      " 5   Change  5071 non-null   float64\n",
      "dtypes: float64(1), int64(5)\n",
      "memory usage: 277.3 KB\n"
     ]
    }
   ],
   "source": [
    "samsung.info() # Pandas 객체는 info 메소드를 통해 확인가능"
   ]
  },
  {
   "cell_type": "markdown",
   "metadata": {},
   "source": [
    "### 메모리를 아끼기 위해서는 어떻해야할까?"
   ]
  },
  {
   "cell_type": "markdown",
   "metadata": {},
   "source": [
    "#### 1. 필요한 데이터만 저장한다\n",
    "\n",
    "samsung 객체는 Open, High, Low, Close, Volume, Change 6개의 열을 가지고 있는데\n",
    "\n",
    "Change 열은 굳이 필요하지도 않고 필요하다면 나중에 만들어 낼 수 있으므로 제외한다"
   ]
  },
  {
   "cell_type": "code",
   "execution_count": 82,
   "metadata": {},
   "outputs": [
    {
     "data": {
      "text/html": [
       "<div>\n",
       "<style scoped>\n",
       "    .dataframe tbody tr th:only-of-type {\n",
       "        vertical-align: middle;\n",
       "    }\n",
       "\n",
       "    .dataframe tbody tr th {\n",
       "        vertical-align: top;\n",
       "    }\n",
       "\n",
       "    .dataframe thead th {\n",
       "        text-align: right;\n",
       "    }\n",
       "</style>\n",
       "<table border=\"1\" class=\"dataframe\">\n",
       "  <thead>\n",
       "    <tr style=\"text-align: right;\">\n",
       "      <th></th>\n",
       "      <th>Open</th>\n",
       "      <th>High</th>\n",
       "      <th>Low</th>\n",
       "      <th>Close</th>\n",
       "      <th>Volume</th>\n",
       "      <th>Change</th>\n",
       "    </tr>\n",
       "    <tr>\n",
       "      <th>Date</th>\n",
       "      <th></th>\n",
       "      <th></th>\n",
       "      <th></th>\n",
       "      <th></th>\n",
       "      <th></th>\n",
       "      <th></th>\n",
       "    </tr>\n",
       "  </thead>\n",
       "  <tbody>\n",
       "    <tr>\n",
       "      <th>2000-01-04</th>\n",
       "      <td>6000</td>\n",
       "      <td>6110</td>\n",
       "      <td>5660</td>\n",
       "      <td>6110</td>\n",
       "      <td>1483967</td>\n",
       "      <td>0.148496</td>\n",
       "    </tr>\n",
       "    <tr>\n",
       "      <th>2000-01-05</th>\n",
       "      <td>5800</td>\n",
       "      <td>6060</td>\n",
       "      <td>5520</td>\n",
       "      <td>5580</td>\n",
       "      <td>1493604</td>\n",
       "      <td>-0.086743</td>\n",
       "    </tr>\n",
       "    <tr>\n",
       "      <th>2000-01-06</th>\n",
       "      <td>5750</td>\n",
       "      <td>5780</td>\n",
       "      <td>5580</td>\n",
       "      <td>5620</td>\n",
       "      <td>1087810</td>\n",
       "      <td>0.007168</td>\n",
       "    </tr>\n",
       "    <tr>\n",
       "      <th>2000-01-07</th>\n",
       "      <td>5560</td>\n",
       "      <td>5670</td>\n",
       "      <td>5360</td>\n",
       "      <td>5540</td>\n",
       "      <td>806195</td>\n",
       "      <td>-0.014235</td>\n",
       "    </tr>\n",
       "    <tr>\n",
       "      <th>2000-01-10</th>\n",
       "      <td>5600</td>\n",
       "      <td>5770</td>\n",
       "      <td>5580</td>\n",
       "      <td>5770</td>\n",
       "      <td>937615</td>\n",
       "      <td>0.041516</td>\n",
       "    </tr>\n",
       "  </tbody>\n",
       "</table>\n",
       "</div>"
      ],
      "text/plain": [
       "            Open  High   Low  Close   Volume    Change\n",
       "Date                                                  \n",
       "2000-01-04  6000  6110  5660   6110  1483967  0.148496\n",
       "2000-01-05  5800  6060  5520   5580  1493604 -0.086743\n",
       "2000-01-06  5750  5780  5580   5620  1087810  0.007168\n",
       "2000-01-07  5560  5670  5360   5540   806195 -0.014235\n",
       "2000-01-10  5600  5770  5580   5770   937615  0.041516"
      ]
     },
     "execution_count": 82,
     "metadata": {},
     "output_type": "execute_result"
    }
   ],
   "source": [
    "samsung.head()"
   ]
  },
  {
   "cell_type": "code",
   "execution_count": 83,
   "metadata": {},
   "outputs": [
    {
     "data": {
      "text/html": [
       "<div>\n",
       "<style scoped>\n",
       "    .dataframe tbody tr th:only-of-type {\n",
       "        vertical-align: middle;\n",
       "    }\n",
       "\n",
       "    .dataframe tbody tr th {\n",
       "        vertical-align: top;\n",
       "    }\n",
       "\n",
       "    .dataframe thead th {\n",
       "        text-align: right;\n",
       "    }\n",
       "</style>\n",
       "<table border=\"1\" class=\"dataframe\">\n",
       "  <thead>\n",
       "    <tr style=\"text-align: right;\">\n",
       "      <th></th>\n",
       "      <th>Open</th>\n",
       "      <th>High</th>\n",
       "      <th>Low</th>\n",
       "      <th>Close</th>\n",
       "      <th>Volume</th>\n",
       "    </tr>\n",
       "    <tr>\n",
       "      <th>Date</th>\n",
       "      <th></th>\n",
       "      <th></th>\n",
       "      <th></th>\n",
       "      <th></th>\n",
       "      <th></th>\n",
       "    </tr>\n",
       "  </thead>\n",
       "  <tbody>\n",
       "    <tr>\n",
       "      <th>2000-01-04</th>\n",
       "      <td>6000</td>\n",
       "      <td>6110</td>\n",
       "      <td>5660</td>\n",
       "      <td>6110</td>\n",
       "      <td>1483967</td>\n",
       "    </tr>\n",
       "    <tr>\n",
       "      <th>2000-01-05</th>\n",
       "      <td>5800</td>\n",
       "      <td>6060</td>\n",
       "      <td>5520</td>\n",
       "      <td>5580</td>\n",
       "      <td>1493604</td>\n",
       "    </tr>\n",
       "    <tr>\n",
       "      <th>2000-01-06</th>\n",
       "      <td>5750</td>\n",
       "      <td>5780</td>\n",
       "      <td>5580</td>\n",
       "      <td>5620</td>\n",
       "      <td>1087810</td>\n",
       "    </tr>\n",
       "    <tr>\n",
       "      <th>2000-01-07</th>\n",
       "      <td>5560</td>\n",
       "      <td>5670</td>\n",
       "      <td>5360</td>\n",
       "      <td>5540</td>\n",
       "      <td>806195</td>\n",
       "    </tr>\n",
       "    <tr>\n",
       "      <th>2000-01-10</th>\n",
       "      <td>5600</td>\n",
       "      <td>5770</td>\n",
       "      <td>5580</td>\n",
       "      <td>5770</td>\n",
       "      <td>937615</td>\n",
       "    </tr>\n",
       "  </tbody>\n",
       "</table>\n",
       "</div>"
      ],
      "text/plain": [
       "            Open  High   Low  Close   Volume\n",
       "Date                                        \n",
       "2000-01-04  6000  6110  5660   6110  1483967\n",
       "2000-01-05  5800  6060  5520   5580  1493604\n",
       "2000-01-06  5750  5780  5580   5620  1087810\n",
       "2000-01-07  5560  5670  5360   5540   806195\n",
       "2000-01-10  5600  5770  5580   5770   937615"
      ]
     },
     "execution_count": 83,
     "metadata": {},
     "output_type": "execute_result"
    }
   ],
   "source": [
    "samsung_diet = samsung[[\"Open\", \"High\", \"Low\", \"Close\", \"Volume\"]]\n",
    "samsung_diet.head()"
   ]
  },
  {
   "cell_type": "code",
   "execution_count": 84,
   "metadata": {},
   "outputs": [
    {
     "name": "stdout",
     "output_type": "stream",
     "text": [
      "<class 'pandas.core.frame.DataFrame'>\n",
      "DatetimeIndex: 5071 entries, 2000-01-04 to 2020-07-16\n",
      "Data columns (total 5 columns):\n",
      " #   Column  Non-Null Count  Dtype\n",
      "---  ------  --------------  -----\n",
      " 0   Open    5071 non-null   int64\n",
      " 1   High    5071 non-null   int64\n",
      " 2   Low     5071 non-null   int64\n",
      " 3   Close   5071 non-null   int64\n",
      " 4   Volume  5071 non-null   int64\n",
      "dtypes: int64(5)\n",
      "memory usage: 237.7 KB\n"
     ]
    }
   ],
   "source": [
    "samsung_diet.info()"
   ]
  },
  {
   "cell_type": "markdown",
   "metadata": {},
   "source": [
    "**약 40kb 메모리를 절약하였다!**"
   ]
  },
  {
   "cell_type": "markdown",
   "metadata": {},
   "source": [
    "#### 2. Dtype 설정\n",
    "\n",
    "컴퓨터에서 데이터를 저장할때에는 타입을 지정해서 저장을 하게된다\n",
    "\n",
    "문자열은 char, 참거짓은 bool, 정수는 int, 실수는 float 등 지정된 데이터 타입이 있고 각 타입마다 차지하는 용량도 다르다!"
   ]
  },
  {
   "cell_type": "code",
   "execution_count": 85,
   "metadata": {},
   "outputs": [
    {
     "name": "stdout",
     "output_type": "stream",
     "text": [
      "<class 'pandas.core.frame.DataFrame'>\n",
      "DatetimeIndex: 5071 entries, 2000-01-04 to 2020-07-16\n",
      "Data columns (total 5 columns):\n",
      " #   Column  Non-Null Count  Dtype\n",
      "---  ------  --------------  -----\n",
      " 0   Open    5071 non-null   int64\n",
      " 1   High    5071 non-null   int64\n",
      " 2   Low     5071 non-null   int64\n",
      " 3   Close   5071 non-null   int64\n",
      " 4   Volume  5071 non-null   int64\n",
      "dtypes: int64(5)\n",
      "memory usage: 237.7 KB\n"
     ]
    }
   ],
   "source": [
    "samsung_diet.info()"
   ]
  },
  {
   "cell_type": "markdown",
   "metadata": {},
   "source": [
    "**위의 Samsung_diet 의 정보를 확인해보면 Open, High, Low, Close, Volume 모두 int64 의 데이터 타입을 사용하는것을 알 수 있다**\n",
    "\n",
    "각종 데이터 타입의 종류와 용량은 [여기](https://numpy.org/doc/stable/user/basics.types.html)를 클릭 하면 볼 수 있다\n",
    "\n",
    "**int64** 의 경우 8byte의 메모리를 차지하며 정수 -9,223,372,036,854,775,808 부터 9,223,372,036,854,775,807 까지 표현 할 수 있다 \n",
    "\n",
    "900경 단위까지 표현이 가능하다!!\n",
    "\n",
    "하지만 잘 생각해보면 주식가격이 경 단위까지 갈 수가 있는가? 거래량은 더더욱 경 단위까지 갈리가 없다\n",
    "\n",
    "따라서 **int64** 는 너무 과한 데이터 타입이다\n",
    "\n",
    "이보다 한 단계 낮은 **int32** 는 4byte의 메모리를 차지하며 정수 -2,147,483,648 to 2,147,483,647 즉 20억 단위 까지 표현가능하다\n",
    "\n",
    "주식가격이나 거래량이 20억단위로도 갈리 없으므로 **int32** 로도 충분하다!\n",
    "\n",
    "만약 불안하다면 주가나 거래량이 음수가 될 리 없으므로 **uint32** (4byte의 메모리를 차지하며 정수 0 to 4,294,967,295 까지 표현)를 사용하자"
   ]
  },
  {
   "cell_type": "code",
   "execution_count": 89,
   "metadata": {},
   "outputs": [],
   "source": [
    "samsung_diet = samsung_diet.astype(\"uint32\")"
   ]
  },
  {
   "cell_type": "code",
   "execution_count": 90,
   "metadata": {},
   "outputs": [
    {
     "name": "stdout",
     "output_type": "stream",
     "text": [
      "<class 'pandas.core.frame.DataFrame'>\n",
      "DatetimeIndex: 5071 entries, 2000-01-04 to 2020-07-16\n",
      "Data columns (total 5 columns):\n",
      " #   Column  Non-Null Count  Dtype \n",
      "---  ------  --------------  ----- \n",
      " 0   Open    5071 non-null   uint32\n",
      " 1   High    5071 non-null   uint32\n",
      " 2   Low     5071 non-null   uint32\n",
      " 3   Close   5071 non-null   uint32\n",
      " 4   Volume  5071 non-null   uint32\n",
      "dtypes: uint32(5)\n",
      "memory usage: 138.7 KB\n"
     ]
    }
   ],
   "source": [
    "samsung_diet.info()"
   ]
  },
  {
   "cell_type": "markdown",
   "metadata": {},
   "source": [
    "**237.7 KB** -> **138.7 KB** 매우 많은 메모리를 줄였다!!"
   ]
  },
  {
   "cell_type": "code",
   "execution_count": 91,
   "metadata": {},
   "outputs": [],
   "source": [
    "with open(\"findata/samsung_diet.pickle\", mode=\"wb\") as f:\n",
    "    pickle.dump(samsung_diet, f)"
   ]
  },
  {
   "cell_type": "code",
   "execution_count": 93,
   "metadata": {},
   "outputs": [
    {
     "name": "stdout",
     "output_type": "stream",
     "text": [
      "278.3837890625 kb\n",
      "139.572265625 kb\n"
     ]
    }
   ],
   "source": [
    "print(os.path.getsize(\"findata/samsung.pickle\") / 1024 , \"kb\")\n",
    "print(os.path.getsize(\"findata/samsung_diet.pickle\") / 1024 , \"kb\")"
   ]
  },
  {
   "cell_type": "markdown",
   "metadata": {},
   "source": [
    "**로컬에 저장시에도 파일용량이 278 kb-> 139 kb 줄어든 것을 확인할 수 있다!!**\n",
    "\n",
    "이렇게 간단한 과정하나로 용량을 절반가량으로 줄 일 수 있는것이다!"
   ]
  },
  {
   "cell_type": "markdown",
   "metadata": {},
   "source": [
    "### 부록"
   ]
  },
  {
   "cell_type": "code",
   "execution_count": 94,
   "metadata": {},
   "outputs": [],
   "source": [
    "daily_stick = {}"
   ]
  },
  {
   "cell_type": "code",
   "execution_count": 95,
   "metadata": {},
   "outputs": [],
   "source": [
    "samsung = fdr.DataReader(\"005930\")\n",
    "naver= fdr.DataReader(\"035420\")"
   ]
  },
  {
   "cell_type": "code",
   "execution_count": 96,
   "metadata": {},
   "outputs": [],
   "source": [
    "daily_stick[\"005930\"] = samsung\n",
    "daily_stick[\"035420\"] = naver"
   ]
  },
  {
   "cell_type": "code",
   "execution_count": 99,
   "metadata": {},
   "outputs": [
    {
     "data": {
      "text/html": [
       "<div>\n",
       "<style scoped>\n",
       "    .dataframe tbody tr th:only-of-type {\n",
       "        vertical-align: middle;\n",
       "    }\n",
       "\n",
       "    .dataframe tbody tr th {\n",
       "        vertical-align: top;\n",
       "    }\n",
       "\n",
       "    .dataframe thead th {\n",
       "        text-align: right;\n",
       "    }\n",
       "</style>\n",
       "<table border=\"1\" class=\"dataframe\">\n",
       "  <thead>\n",
       "    <tr style=\"text-align: right;\">\n",
       "      <th></th>\n",
       "      <th>Open</th>\n",
       "      <th>High</th>\n",
       "      <th>Low</th>\n",
       "      <th>Close</th>\n",
       "      <th>Volume</th>\n",
       "      <th>Change</th>\n",
       "    </tr>\n",
       "    <tr>\n",
       "      <th>Date</th>\n",
       "      <th></th>\n",
       "      <th></th>\n",
       "      <th></th>\n",
       "      <th></th>\n",
       "      <th></th>\n",
       "      <th></th>\n",
       "    </tr>\n",
       "  </thead>\n",
       "  <tbody>\n",
       "    <tr>\n",
       "      <th>1996-08-31</th>\n",
       "      <td>1107</td>\n",
       "      <td>1107</td>\n",
       "      <td>1060</td>\n",
       "      <td>1066</td>\n",
       "      <td>52170</td>\n",
       "      <td>NaN</td>\n",
       "    </tr>\n",
       "    <tr>\n",
       "      <th>1996-09-02</th>\n",
       "      <td>1067</td>\n",
       "      <td>1076</td>\n",
       "      <td>1050</td>\n",
       "      <td>1067</td>\n",
       "      <td>117670</td>\n",
       "      <td>0.000938</td>\n",
       "    </tr>\n",
       "    <tr>\n",
       "      <th>1996-09-03</th>\n",
       "      <td>1063</td>\n",
       "      <td>1063</td>\n",
       "      <td>1043</td>\n",
       "      <td>1057</td>\n",
       "      <td>76960</td>\n",
       "      <td>-0.009372</td>\n",
       "    </tr>\n",
       "    <tr>\n",
       "      <th>1996-09-04</th>\n",
       "      <td>1076</td>\n",
       "      <td>1090</td>\n",
       "      <td>1062</td>\n",
       "      <td>1069</td>\n",
       "      <td>124480</td>\n",
       "      <td>0.011353</td>\n",
       "    </tr>\n",
       "    <tr>\n",
       "      <th>1996-09-05</th>\n",
       "      <td>1067</td>\n",
       "      <td>1069</td>\n",
       "      <td>1046</td>\n",
       "      <td>1047</td>\n",
       "      <td>118400</td>\n",
       "      <td>-0.020580</td>\n",
       "    </tr>\n",
       "  </tbody>\n",
       "</table>\n",
       "</div>"
      ],
      "text/plain": [
       "            Open  High   Low  Close  Volume    Change\n",
       "Date                                                 \n",
       "1996-08-31  1107  1107  1060   1066   52170       NaN\n",
       "1996-09-02  1067  1076  1050   1067  117670  0.000938\n",
       "1996-09-03  1063  1063  1043   1057   76960 -0.009372\n",
       "1996-09-04  1076  1090  1062   1069  124480  0.011353\n",
       "1996-09-05  1067  1069  1046   1047  118400 -0.020580"
      ]
     },
     "execution_count": 99,
     "metadata": {},
     "output_type": "execute_result"
    }
   ],
   "source": [
    "daily_stick[\"005930\"].head()"
   ]
  },
  {
   "cell_type": "code",
   "execution_count": 100,
   "metadata": {},
   "outputs": [
    {
     "data": {
      "text/html": [
       "<div>\n",
       "<style scoped>\n",
       "    .dataframe tbody tr th:only-of-type {\n",
       "        vertical-align: middle;\n",
       "    }\n",
       "\n",
       "    .dataframe tbody tr th {\n",
       "        vertical-align: top;\n",
       "    }\n",
       "\n",
       "    .dataframe thead th {\n",
       "        text-align: right;\n",
       "    }\n",
       "</style>\n",
       "<table border=\"1\" class=\"dataframe\">\n",
       "  <thead>\n",
       "    <tr style=\"text-align: right;\">\n",
       "      <th></th>\n",
       "      <th>Open</th>\n",
       "      <th>High</th>\n",
       "      <th>Low</th>\n",
       "      <th>Close</th>\n",
       "      <th>Volume</th>\n",
       "      <th>Change</th>\n",
       "    </tr>\n",
       "    <tr>\n",
       "      <th>Date</th>\n",
       "      <th></th>\n",
       "      <th></th>\n",
       "      <th></th>\n",
       "      <th></th>\n",
       "      <th></th>\n",
       "      <th></th>\n",
       "    </tr>\n",
       "  </thead>\n",
       "  <tbody>\n",
       "    <tr>\n",
       "      <th>2002-10-29</th>\n",
       "      <td>7366</td>\n",
       "      <td>7366</td>\n",
       "      <td>7366</td>\n",
       "      <td>7366</td>\n",
       "      <td>20549</td>\n",
       "      <td>NaN</td>\n",
       "    </tr>\n",
       "    <tr>\n",
       "      <th>2002-10-30</th>\n",
       "      <td>8244</td>\n",
       "      <td>8244</td>\n",
       "      <td>8152</td>\n",
       "      <td>8245</td>\n",
       "      <td>853638</td>\n",
       "      <td>0.119332</td>\n",
       "    </tr>\n",
       "    <tr>\n",
       "      <th>2002-10-31</th>\n",
       "      <td>8369</td>\n",
       "      <td>8570</td>\n",
       "      <td>7641</td>\n",
       "      <td>7835</td>\n",
       "      <td>1320880</td>\n",
       "      <td>-0.049727</td>\n",
       "    </tr>\n",
       "    <tr>\n",
       "      <th>2002-11-01</th>\n",
       "      <td>8036</td>\n",
       "      <td>8287</td>\n",
       "      <td>7065</td>\n",
       "      <td>7349</td>\n",
       "      <td>750761</td>\n",
       "      <td>-0.062029</td>\n",
       "    </tr>\n",
       "    <tr>\n",
       "      <th>2002-11-04</th>\n",
       "      <td>7281</td>\n",
       "      <td>7331</td>\n",
       "      <td>6804</td>\n",
       "      <td>6981</td>\n",
       "      <td>692165</td>\n",
       "      <td>-0.050075</td>\n",
       "    </tr>\n",
       "  </tbody>\n",
       "</table>\n",
       "</div>"
      ],
      "text/plain": [
       "            Open  High   Low  Close   Volume    Change\n",
       "Date                                                  \n",
       "2002-10-29  7366  7366  7366   7366    20549       NaN\n",
       "2002-10-30  8244  8244  8152   8245   853638  0.119332\n",
       "2002-10-31  8369  8570  7641   7835  1320880 -0.049727\n",
       "2002-11-01  8036  8287  7065   7349   750761 -0.062029\n",
       "2002-11-04  7281  7331  6804   6981   692165 -0.050075"
      ]
     },
     "execution_count": 100,
     "metadata": {},
     "output_type": "execute_result"
    }
   ],
   "source": [
    "daily_stick[\"035420\"].head()"
   ]
  },
  {
   "cell_type": "markdown",
   "metadata": {},
   "source": [
    "### 과제"
   ]
  },
  {
   "cell_type": "markdown",
   "metadata": {},
   "source": [
    "지난 과제를 참조하여 현재 상장되어 있는 모든 코스피, 코스닥 종목들의 데이터를 수집하고\n",
    "\n",
    "메모리 최적화를 통해 최대한 용량을 줄이고\n",
    "\n",
    "부록을 참조하여 key=종목코드, value=주가데이터 형식의 딕셔너리를 만든 후\n",
    "\n",
    "pickle 을 사용하여 그 딕셔너리를 로컬에 저장하여라!\n",
    "\n",
    "(주의: github는 코드를 공유하는 곳이지 대용량의 데이터를 공유하는 곳이 아니므로 데이터를 push 하지는 말 것)"
   ]
  }
 ],
 "metadata": {
  "kernelspec": {
   "display_name": "Python 3",
   "language": "python",
   "name": "python3"
  },
  "language_info": {
   "codemirror_mode": {
    "name": "ipython",
    "version": 3
   },
   "file_extension": ".py",
   "mimetype": "text/x-python",
   "name": "python",
   "nbconvert_exporter": "python",
   "pygments_lexer": "ipython3",
   "version": "3.8.3"
  }
 },
 "nbformat": 4,
 "nbformat_minor": 4
}
